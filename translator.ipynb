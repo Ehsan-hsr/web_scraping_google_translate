{
 "cells": [
  {
   "cell_type": "markdown",
   "id": "1a9b9f0e",
   "metadata": {},
   "source": [
    "# use google translate with web scraping\n",
    "in one of the my project i need to work with a chinees FPGA board, and a lot of its driver files name was in chinees language,so i need to translate them to english and then rename those file.\n",
    "<br>\n",
    "so i use this python script to translate those file name from chinees to english."
   ]
  },
  {
   "cell_type": "code",
   "execution_count": 22,
   "id": "22489f32",
   "metadata": {},
   "outputs": [
    {
     "data": {
      "text/plain": [
       "'Lab 31 - Digital Filter Design - Xilinx IP'"
      ]
     },
     "execution_count": 22,
     "metadata": {},
     "output_type": "execute_result"
    }
   ],
   "source": [
    "from selenium import webdriver\n",
    "import selenium\n",
    "from time import sleep\n",
    " \n",
    "driver = webdriver.Firefox()\n",
    "\n",
    "driver.get(\"https://www.google.com/search?channel=fs&client=ubuntu&q=translate\")\n",
    "\n",
    "search_box = driver.find_element(\"id\", \"tw-source-text-ta\")\n",
    "search_box.send_keys(\"实验31-数字滤波器设计-Xilinx IP\")\n",
    "\n",
    "sleep(10)\n",
    "\n",
    "tr_box = driver.find_element(\"id\", \"tw-target-text\")\n",
    "tr_box.text"
   ]
  },
  {
   "cell_type": "code",
   "execution_count": 23,
   "id": "abeaafac",
   "metadata": {},
   "outputs": [],
   "source": [
    "def ch_to_en(expretion):\n",
    "    driver = webdriver.Firefox()\n",
    "\n",
    "    driver.get(\"https://www.google.com/search?channel=fs&client=ubuntu&q=translate\")\n",
    "\n",
    "    search_box = driver.find_element(\"id\", \"tw-source-text-ta\")\n",
    "    search_box.send_keys(\"实验31-数字滤波器设计-Xilinx IP\")\n",
    "\n",
    "    sleep(10)\n",
    "\n",
    "    tr_box = driver.find_element(\"id\", \"tw-target-text\")\n",
    "    return tr_box.text"
   ]
  }
 ],
 "metadata": {
  "kernelspec": {
   "display_name": "Python 3 (ipykernel)",
   "language": "python",
   "name": "python3"
  },
  "language_info": {
   "codemirror_mode": {
    "name": "ipython",
    "version": 3
   },
   "file_extension": ".py",
   "mimetype": "text/x-python",
   "name": "python",
   "nbconvert_exporter": "python",
   "pygments_lexer": "ipython3",
   "version": "3.8.10"
  }
 },
 "nbformat": 4,
 "nbformat_minor": 5
}
